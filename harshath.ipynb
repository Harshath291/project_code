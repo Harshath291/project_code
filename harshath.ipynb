{
 "cells": [
  {
   "cell_type": "code",
   "execution_count": 1,
   "id": "a4e91e24-dcc2-4588-b8c7-20c7e0cfd19d",
   "metadata": {},
   "outputs": [
    {
     "data": {
      "text/plain": [
       "str"
      ]
     },
     "execution_count": 1,
     "metadata": {},
     "output_type": "execute_result"
    }
   ],
   "source": [
    "a = \"harshath\"\n",
    "b = 67\n",
    "c = 90.5\n",
    "d = True\n",
    "type(a)"
   ]
  },
  {
   "cell_type": "code",
   "execution_count": 3,
   "id": "7601d9e3-5f55-4606-9718-386c7f3885c8",
   "metadata": {},
   "outputs": [
    {
     "data": {
      "text/plain": [
       "int"
      ]
     },
     "execution_count": 3,
     "metadata": {},
     "output_type": "execute_result"
    }
   ],
   "source": [
    "type(b)"
   ]
  },
  {
   "cell_type": "code",
   "execution_count": 5,
   "id": "e504d2bd-e8e2-4a2f-9971-fafd013bce02",
   "metadata": {},
   "outputs": [
    {
     "data": {
      "text/plain": [
       "float"
      ]
     },
     "execution_count": 5,
     "metadata": {},
     "output_type": "execute_result"
    }
   ],
   "source": [
    "type(c)"
   ]
  },
  {
   "cell_type": "code",
   "execution_count": 7,
   "id": "3437fec1-f8a9-4c7d-8175-c94327fd2507",
   "metadata": {},
   "outputs": [
    {
     "data": {
      "text/plain": [
       "bool"
      ]
     },
     "execution_count": 7,
     "metadata": {},
     "output_type": "execute_result"
    }
   ],
   "source": [
    "type(d)"
   ]
  },
  {
   "cell_type": "markdown",
   "id": "53ef7afd-ceae-4906-9a53-c8be5b55c6b3",
   "metadata": {},
   "source": [
    "### addition  +\n",
    "### substraction -\n",
    "### multiplaication *\n",
    "### Divison /\n",
    "### remaiinder %\n",
    "### power **\n",
    "### // floor division"
   ]
  },
  {
   "cell_type": "code",
   "execution_count": 26,
   "id": "1a651fe7-35d2-489e-9116-b91845721bed",
   "metadata": {},
   "outputs": [],
   "source": [
    "f = 67\n",
    "g = 76"
   ]
  },
  {
   "cell_type": "code",
   "execution_count": 28,
   "id": "9fba435b-5d33-412c-b389-337295fb030e",
   "metadata": {},
   "outputs": [
    {
     "name": "stdout",
     "output_type": "stream",
     "text": [
      "67\n",
      "76\n"
     ]
    }
   ],
   "source": [
    "print(f)\n",
    "print(g)"
   ]
  },
  {
   "cell_type": "code",
   "execution_count": 30,
   "id": "9d602c3c-7743-448d-9f7f-d7eea47fb099",
   "metadata": {},
   "outputs": [],
   "source": [
    "c=f+g"
   ]
  },
  {
   "cell_type": "code",
   "execution_count": 32,
   "id": "0cd83d81-e331-4bbf-aead-a4dfd6a3571b",
   "metadata": {},
   "outputs": [
    {
     "name": "stdout",
     "output_type": "stream",
     "text": [
      "143\n"
     ]
    }
   ],
   "source": [
    "print(c)"
   ]
  },
  {
   "cell_type": "code",
   "execution_count": 34,
   "id": "6128dda7-ee80-4fdc-be5b-f2cf39f8a0af",
   "metadata": {},
   "outputs": [],
   "source": [
    "d=f-g"
   ]
  },
  {
   "cell_type": "code",
   "execution_count": 36,
   "id": "56478f4b-fd02-44ca-9c9a-6ea7af8d5219",
   "metadata": {},
   "outputs": [
    {
     "data": {
      "text/plain": [
       "int"
      ]
     },
     "execution_count": 36,
     "metadata": {},
     "output_type": "execute_result"
    }
   ],
   "source": [
    "type(d)"
   ]
  },
  {
   "cell_type": "code",
   "execution_count": 38,
   "id": "da259b24-29d8-4e61-8afc-e0cc8d912c57",
   "metadata": {},
   "outputs": [],
   "source": [
    "w=f*g"
   ]
  },
  {
   "cell_type": "code",
   "execution_count": 40,
   "id": "3cc9fe0a-b1cf-4d03-a69e-22905ac5f923",
   "metadata": {},
   "outputs": [
    {
     "data": {
      "text/plain": [
       "int"
      ]
     },
     "execution_count": 40,
     "metadata": {},
     "output_type": "execute_result"
    }
   ],
   "source": [
    "type(w)"
   ]
  },
  {
   "cell_type": "code",
   "execution_count": 42,
   "id": "be51ba7b-9ec9-4dd1-881c-08f5077cbbda",
   "metadata": {},
   "outputs": [
    {
     "name": "stdout",
     "output_type": "stream",
     "text": [
      "5092\n"
     ]
    }
   ],
   "source": [
    "print(w)"
   ]
  },
  {
   "cell_type": "code",
   "execution_count": 44,
   "id": "69f13d9c-27ec-481d-b7a1-4a905bcd662d",
   "metadata": {},
   "outputs": [],
   "source": [
    "e=f**g"
   ]
  },
  {
   "cell_type": "code",
   "execution_count": 46,
   "id": "6b79e256-a598-48ed-bebe-5f6f424e3384",
   "metadata": {},
   "outputs": [
    {
     "name": "stdout",
     "output_type": "stream",
     "text": [
      "6049019788793508926394988232004952430001526455254290573514341981488740109140657380141349428398913059345586663756311866159108911029465565681\n"
     ]
    },
    {
     "data": {
      "text/plain": [
       "int"
      ]
     },
     "execution_count": 46,
     "metadata": {},
     "output_type": "execute_result"
    }
   ],
   "source": [
    "print(e)\n",
    "type(e)"
   ]
  },
  {
   "cell_type": "code",
   "execution_count": 48,
   "id": "586364c9-b301-4f42-847a-ca608a047d6e",
   "metadata": {},
   "outputs": [],
   "source": [
    "u=f/g"
   ]
  },
  {
   "cell_type": "code",
   "execution_count": 50,
   "id": "2370e79a-e967-477a-a45e-ddea201e501d",
   "metadata": {},
   "outputs": [
    {
     "name": "stdout",
     "output_type": "stream",
     "text": [
      "0.881578947368421\n"
     ]
    },
    {
     "data": {
      "text/plain": [
       "float"
      ]
     },
     "execution_count": 50,
     "metadata": {},
     "output_type": "execute_result"
    }
   ],
   "source": [
    "print(u)\n",
    "type(u)"
   ]
  },
  {
   "cell_type": "code",
   "execution_count": 52,
   "id": "14af1bcd-6a7a-47d8-b95d-68bb5e094709",
   "metadata": {},
   "outputs": [],
   "source": [
    "x=45\n",
    "y=45.07"
   ]
  },
  {
   "cell_type": "code",
   "execution_count": 54,
   "id": "4ac6c4d1-7f4c-4704-ae10-2a4f0c063931",
   "metadata": {},
   "outputs": [
    {
     "data": {
      "text/plain": [
       "False"
      ]
     },
     "execution_count": 54,
     "metadata": {},
     "output_type": "execute_result"
    }
   ],
   "source": [
    "x>y"
   ]
  },
  {
   "cell_type": "code",
   "execution_count": 56,
   "id": "d0b2b317-9408-4af2-a392-581e172c23b9",
   "metadata": {},
   "outputs": [
    {
     "data": {
      "text/plain": [
       "True"
      ]
     },
     "execution_count": 56,
     "metadata": {},
     "output_type": "execute_result"
    }
   ],
   "source": [
    "x<y"
   ]
  },
  {
   "cell_type": "code",
   "execution_count": 58,
   "id": "9ba2ff39-502f-443d-b274-84fe56070146",
   "metadata": {},
   "outputs": [
    {
     "data": {
      "text/plain": [
       "False"
      ]
     },
     "execution_count": 58,
     "metadata": {},
     "output_type": "execute_result"
    }
   ],
   "source": [
    "x==y"
   ]
  },
  {
   "cell_type": "code",
   "execution_count": 60,
   "id": "18c85a5b-9abd-4489-a321-9c1c86c9410b",
   "metadata": {},
   "outputs": [],
   "source": [
    "z='data'\n",
    "v='DATA'"
   ]
  },
  {
   "cell_type": "code",
   "execution_count": 62,
   "id": "103a0490-d824-492f-8753-3197e8b81339",
   "metadata": {},
   "outputs": [
    {
     "data": {
      "text/plain": [
       "False"
      ]
     },
     "execution_count": 62,
     "metadata": {},
     "output_type": "execute_result"
    }
   ],
   "source": [
    "z==v"
   ]
  },
  {
   "cell_type": "code",
   "execution_count": 64,
   "id": "82ed5812-281d-4523-8f46-cfdebe3ffc97",
   "metadata": {},
   "outputs": [],
   "source": [
    "#logical operators\n",
    "#and\n",
    "# T and T = T\n",
    "# T and F = F\n",
    "# F and F = F\n",
    "# F and T = F"
   ]
  },
  {
   "cell_type": "code",
   "execution_count": 66,
   "id": "72d945c9-1edb-485c-996e-6259497a84c2",
   "metadata": {},
   "outputs": [],
   "source": [
    "# or \n",
    "# T and T = T\n",
    "# T and F = T\n",
    "# F and F = F\n",
    "# F and T = T"
   ]
  },
  {
   "cell_type": "code",
   "execution_count": 1,
   "id": "eddeea16-6b00-4cdd-bee0-8373c50f8c03",
   "metadata": {},
   "outputs": [
    {
     "data": {
      "text/plain": [
       "[2, 4, 6, 8]"
      ]
     },
     "execution_count": 1,
     "metadata": {},
     "output_type": "execute_result"
    }
   ],
   "source": [
    "a=[2,4,6,8]\n",
    "a"
   ]
  },
  {
   "cell_type": "code",
   "execution_count": 3,
   "id": "bbe8f9df-aa1b-4a07-a147-7497df29ce4c",
   "metadata": {},
   "outputs": [
    {
     "data": {
      "text/plain": [
       "list"
      ]
     },
     "execution_count": 3,
     "metadata": {},
     "output_type": "execute_result"
    }
   ],
   "source": [
    "type(a)"
   ]
  },
  {
   "cell_type": "code",
   "execution_count": 5,
   "id": "19850242-43aa-48e5-8962-ebdb6bde45cf",
   "metadata": {},
   "outputs": [
    {
     "data": {
      "text/plain": [
       "[428, 'Hyderabad', 33, False, True, 45, 17, 77, 18]"
      ]
     },
     "execution_count": 5,
     "metadata": {},
     "output_type": "execute_result"
    }
   ],
   "source": [
    "a=[428, 'Hyderabad', 33, False, True, 45, 17, 77, 18]\n",
    "a"
   ]
  },
  {
   "cell_type": "code",
   "execution_count": 7,
   "id": "2dac9be4-d224-4108-a805-0dd915b59650",
   "metadata": {},
   "outputs": [
    {
     "data": {
      "text/plain": [
       "'Hyderabad'"
      ]
     },
     "execution_count": 7,
     "metadata": {},
     "output_type": "execute_result"
    }
   ],
   "source": [
    "a[1]"
   ]
  },
  {
   "cell_type": "code",
   "execution_count": 9,
   "id": "14c945a8-17db-4f61-a64d-95c87edba59a",
   "metadata": {},
   "outputs": [
    {
     "data": {
      "text/plain": [
       "33"
      ]
     },
     "execution_count": 9,
     "metadata": {},
     "output_type": "execute_result"
    }
   ],
   "source": [
    "a[-7]"
   ]
  },
  {
   "cell_type": "code",
   "execution_count": 11,
   "id": "86c3403c-45b0-4b4d-87b0-492b8b0e15da",
   "metadata": {},
   "outputs": [
    {
     "data": {
      "text/plain": [
       "['Hyderabad', 33, False, True, 45]"
      ]
     },
     "execution_count": 11,
     "metadata": {},
     "output_type": "execute_result"
    }
   ],
   "source": [
    "a[1:6]"
   ]
  },
  {
   "cell_type": "code",
   "execution_count": 13,
   "id": "5cfcf7f5-c661-4905-8391-37a8ad9ce941",
   "metadata": {},
   "outputs": [
    {
     "data": {
      "text/plain": [
       "[428, 'Hyderabad', 33, False, True, 45, 17, 77]"
      ]
     },
     "execution_count": 13,
     "metadata": {},
     "output_type": "execute_result"
    }
   ],
   "source": [
    "a[0:8]"
   ]
  },
  {
   "cell_type": "code",
   "execution_count": 15,
   "id": "2747c7ff-3e55-40cb-a84c-1664cd461710",
   "metadata": {},
   "outputs": [
    {
     "data": {
      "text/plain": [
       "[18]"
      ]
     },
     "execution_count": 15,
     "metadata": {},
     "output_type": "execute_result"
    }
   ],
   "source": [
    "a[-1:-4:-3]"
   ]
  },
  {
   "cell_type": "code",
   "execution_count": 23,
   "id": "29cbfc1f-609a-43a9-98f6-2f3bb96a7335",
   "metadata": {},
   "outputs": [
    {
     "data": {
      "text/plain": [
       "['Hyderabad']"
      ]
     },
     "execution_count": 23,
     "metadata": {},
     "output_type": "execute_result"
    }
   ],
   "source": [
    "a[1:2:7]"
   ]
  },
  {
   "cell_type": "markdown",
   "id": "6436cb76-a5d4-4a20-abe5-086751e3bf5d",
   "metadata": {},
   "source": [
    "# list methods"
   ]
  },
  {
   "cell_type": "code",
   "execution_count": 31,
   "id": "3f5b7638-5b7d-4516-bc02-4e5c3709fe88",
   "metadata": {},
   "outputs": [],
   "source": [
    "a=[428, 'Hyderabad', 33, False, True, 45, 17, 77, 18]"
   ]
  },
  {
   "cell_type": "code",
   "execution_count": 35,
   "id": "c316ba91-aec1-4082-9266-b164e74442aa",
   "metadata": {},
   "outputs": [
    {
     "data": {
      "text/plain": [
       "9"
      ]
     },
     "execution_count": 35,
     "metadata": {},
     "output_type": "execute_result"
    }
   ],
   "source": [
    "len(a)"
   ]
  },
  {
   "cell_type": "code",
   "execution_count": 37,
   "id": "5e05eb84-53df-43b7-bd7c-014d3b48a704",
   "metadata": {},
   "outputs": [],
   "source": [
    "a.append('harshath')"
   ]
  },
  {
   "cell_type": "code",
   "execution_count": 39,
   "id": "c724c084-2c09-44bd-9a53-5406515090fe",
   "metadata": {},
   "outputs": [
    {
     "data": {
      "text/plain": [
       "[428, 'Hyderabad', 33, False, True, 45, 17, 77, 18, 'harshath']"
      ]
     },
     "execution_count": 39,
     "metadata": {},
     "output_type": "execute_result"
    }
   ],
   "source": [
    "a"
   ]
  },
  {
   "cell_type": "code",
   "execution_count": 41,
   "id": "7f0a779a-3fc7-47ae-8fad-673c3f31b720",
   "metadata": {},
   "outputs": [],
   "source": [
    "a.append(80)"
   ]
  },
  {
   "cell_type": "code",
   "execution_count": 43,
   "id": "40cd8e90-e12f-488d-9add-a51adbf021ef",
   "metadata": {},
   "outputs": [
    {
     "data": {
      "text/plain": [
       "[428, 'Hyderabad', 33, False, True, 45, 17, 77, 18, 'harshath', 80]"
      ]
     },
     "execution_count": 43,
     "metadata": {},
     "output_type": "execute_result"
    }
   ],
   "source": [
    "a"
   ]
  },
  {
   "cell_type": "code",
   "execution_count": 45,
   "id": "a8b3e51a-6051-426c-88aa-38c0db80a044",
   "metadata": {},
   "outputs": [],
   "source": [
    "a.insert(1,30)"
   ]
  },
  {
   "cell_type": "code",
   "execution_count": 47,
   "id": "dcb91ffd-600e-43c8-a5b2-c59f3b8cc149",
   "metadata": {},
   "outputs": [
    {
     "data": {
      "text/plain": [
       "[428, 30, 'Hyderabad', 33, False, True, 45, 17, 77, 18, 'harshath', 80]"
      ]
     },
     "execution_count": 47,
     "metadata": {},
     "output_type": "execute_result"
    }
   ],
   "source": [
    "a"
   ]
  },
  {
   "cell_type": "code",
   "execution_count": 53,
   "id": "c820e79f-7670-48dc-8c00-656f30902963",
   "metadata": {},
   "outputs": [
    {
     "data": {
      "text/plain": [
       "77"
      ]
     },
     "execution_count": 53,
     "metadata": {},
     "output_type": "execute_result"
    }
   ],
   "source": [
    "a.pop(7)"
   ]
  },
  {
   "cell_type": "code",
   "execution_count": 55,
   "id": "ac40db99-1643-471d-9127-50b55ab259f9",
   "metadata": {},
   "outputs": [
    {
     "data": {
      "text/plain": [
       "[428, 30, 'Hyderabad', 33, False, True, 45, 18, 'harshath', 80]"
      ]
     },
     "execution_count": 55,
     "metadata": {},
     "output_type": "execute_result"
    }
   ],
   "source": [
    "a"
   ]
  },
  {
   "cell_type": "code",
   "execution_count": 57,
   "id": "9b627f95-aba9-4424-a072-839126e1bf30",
   "metadata": {},
   "outputs": [
    {
     "data": {
      "text/plain": [
       "33"
      ]
     },
     "execution_count": 57,
     "metadata": {},
     "output_type": "execute_result"
    }
   ],
   "source": [
    "a.pop(3)"
   ]
  },
  {
   "cell_type": "code",
   "execution_count": 64,
   "id": "3aa35f3d-fd79-4077-a5a7-d4b913345e05",
   "metadata": {},
   "outputs": [
    {
     "data": {
      "text/plain": [
       "[428, 'Hyderabad', False, True, 45, 18, 'harshath', 80]"
      ]
     },
     "execution_count": 64,
     "metadata": {},
     "output_type": "execute_result"
    }
   ],
   "source": [
    "a"
   ]
  },
  {
   "cell_type": "code",
   "execution_count": 70,
   "id": "3dd94b88-03f7-441a-bf1f-d376f5895228",
   "metadata": {},
   "outputs": [],
   "source": [
    "a.remove(False)"
   ]
  },
  {
   "cell_type": "code",
   "execution_count": 68,
   "id": "c5ba852a-3e95-45ab-bd6a-b94a14dbcd5e",
   "metadata": {},
   "outputs": [
    {
     "data": {
      "text/plain": [
       "[428, 'Hyderabad', False, True, 45, 18, 'harshath', 80]"
      ]
     },
     "execution_count": 68,
     "metadata": {},
     "output_type": "execute_result"
    }
   ],
   "source": [
    "a"
   ]
  },
  {
   "cell_type": "code",
   "execution_count": 72,
   "id": "1ce4e6a7-e147-465b-84c0-1731abae148d",
   "metadata": {},
   "outputs": [
    {
     "data": {
      "text/plain": [
       "[428, 'Hyderabad', True, 45, 18, 'harshath', 80]"
      ]
     },
     "execution_count": 72,
     "metadata": {},
     "output_type": "execute_result"
    }
   ],
   "source": [
    "a"
   ]
  },
  {
   "cell_type": "code",
   "execution_count": 74,
   "id": "59fe5585-9675-4cbc-98a4-97d1f360df6d",
   "metadata": {},
   "outputs": [
    {
     "data": {
      "text/plain": [
       "1"
      ]
     },
     "execution_count": 74,
     "metadata": {},
     "output_type": "execute_result"
    }
   ],
   "source": [
    "a.count(18)"
   ]
  },
  {
   "cell_type": "code",
   "execution_count": 76,
   "id": "a7e8b8e9-ec88-4563-bccd-54c297443da6",
   "metadata": {},
   "outputs": [],
   "source": [
    "a.clear()"
   ]
  },
  {
   "cell_type": "code",
   "execution_count": 78,
   "id": "49a3059e-79cc-4ad9-9717-709f4dbb4a60",
   "metadata": {},
   "outputs": [
    {
     "data": {
      "text/plain": [
       "[]"
      ]
     },
     "execution_count": 78,
     "metadata": {},
     "output_type": "execute_result"
    }
   ],
   "source": [
    "a"
   ]
  },
  {
   "cell_type": "code",
   "execution_count": 80,
   "id": "2db3fb81-bfbf-4198-95ea-a848d9b31aef",
   "metadata": {},
   "outputs": [
    {
     "data": {
      "text/plain": [
       "list"
      ]
     },
     "execution_count": 80,
     "metadata": {},
     "output_type": "execute_result"
    }
   ],
   "source": [
    "type(a)"
   ]
  },
  {
   "cell_type": "code",
   "execution_count": 82,
   "id": "1ab1bf6a-436a-42a5-8c3f-8160158fd8d7",
   "metadata": {},
   "outputs": [],
   "source": [
    "d=[1,2,3,4,5,6,7,8,9,]"
   ]
  },
  {
   "cell_type": "code",
   "execution_count": 84,
   "id": "eab5c4d7-5b82-4aac-b98c-c6789ffa00c5",
   "metadata": {},
   "outputs": [
    {
     "data": {
      "text/plain": [
       "[1, 2, 3, 4, 5, 6, 7, 8, 9]"
      ]
     },
     "execution_count": 84,
     "metadata": {},
     "output_type": "execute_result"
    }
   ],
   "source": [
    "d"
   ]
  },
  {
   "cell_type": "code",
   "execution_count": 86,
   "id": "a1e9180f-b2ba-4fbd-846a-e8ef3d261922",
   "metadata": {},
   "outputs": [],
   "source": [
    "del d"
   ]
  },
  {
   "cell_type": "code",
   "execution_count": 99,
   "id": "9e8acacf-473b-415a-836e-2e5419568a48",
   "metadata": {},
   "outputs": [],
   "source": [
    "a=[5,4,6,7,]"
   ]
  },
  {
   "cell_type": "code",
   "execution_count": 101,
   "id": "0748d8c9-da7d-415f-bc01-753b49f25538",
   "metadata": {},
   "outputs": [
    {
     "data": {
      "text/plain": [
       "[5, 4, 6, 7]"
      ]
     },
     "execution_count": 101,
     "metadata": {},
     "output_type": "execute_result"
    }
   ],
   "source": [
    "a"
   ]
  },
  {
   "cell_type": "code",
   "execution_count": 107,
   "id": "6630dcce-123c-4f54-adf4-3895e7b7353d",
   "metadata": {},
   "outputs": [],
   "source": [
    "d=[1,2,3,4]"
   ]
  },
  {
   "cell_type": "code",
   "execution_count": 112,
   "id": "96a719aa-f56a-49ea-8ae0-dfc8fdd87ccf",
   "metadata": {},
   "outputs": [],
   "source": [
    "d.extend(a)"
   ]
  },
  {
   "cell_type": "code",
   "execution_count": 114,
   "id": "25b6f0f9-1796-4371-bfdd-67e3cfe32c1b",
   "metadata": {},
   "outputs": [
    {
     "data": {
      "text/plain": [
       "[1, 2, 3, 4, 5, 4, 6, 7, 5, 4, 6, 7]"
      ]
     },
     "execution_count": 114,
     "metadata": {},
     "output_type": "execute_result"
    }
   ],
   "source": [
    "d"
   ]
  },
  {
   "cell_type": "code",
   "execution_count": 116,
   "id": "f1536eee-9864-4e57-96f6-93503cae99f0",
   "metadata": {},
   "outputs": [
    {
     "data": {
      "text/plain": [
       "[1, 2, 3, 4, 5, 4, 6, 7, 5, 4, 6, 7, 5, 4, 6, 7]"
      ]
     },
     "execution_count": 116,
     "metadata": {},
     "output_type": "execute_result"
    }
   ],
   "source": [
    "d + a"
   ]
  },
  {
   "cell_type": "code",
   "execution_count": 3,
   "id": "da9c6470-17d4-4e58-aa6f-cab98168596c",
   "metadata": {},
   "outputs": [
    {
     "data": {
      "text/plain": [
       "(90, 70, 50, 30, 20)"
      ]
     },
     "execution_count": 3,
     "metadata": {},
     "output_type": "execute_result"
    }
   ],
   "source": [
    "h= (90,70,50,30,20)\n",
    "h"
   ]
  },
  {
   "cell_type": "code",
   "execution_count": 5,
   "id": "84a84453-6fa7-404e-9af9-ce84ac162df7",
   "metadata": {},
   "outputs": [
    {
     "data": {
      "text/plain": [
       "tuple"
      ]
     },
     "execution_count": 5,
     "metadata": {},
     "output_type": "execute_result"
    }
   ],
   "source": [
    "type(h)"
   ]
  },
  {
   "cell_type": "code",
   "execution_count": 7,
   "id": "6c87ce40-2904-46f4-957e-bae3591929d8",
   "metadata": {},
   "outputs": [
    {
     "data": {
      "text/plain": [
       "1"
      ]
     },
     "execution_count": 7,
     "metadata": {},
     "output_type": "execute_result"
    }
   ],
   "source": [
    "h.count(90)"
   ]
  },
  {
   "cell_type": "code",
   "execution_count": 9,
   "id": "716261c7-5ee7-4fd1-ac45-0a446201aa6d",
   "metadata": {},
   "outputs": [
    {
     "data": {
      "text/plain": [
       "4"
      ]
     },
     "execution_count": 9,
     "metadata": {},
     "output_type": "execute_result"
    }
   ],
   "source": [
    "h.index(20)"
   ]
  },
  {
   "cell_type": "code",
   "execution_count": 11,
   "id": "e8490486-f88f-4416-8951-f018ae6d3b5c",
   "metadata": {},
   "outputs": [
    {
     "data": {
      "text/plain": [
       "30"
      ]
     },
     "execution_count": 11,
     "metadata": {},
     "output_type": "execute_result"
    }
   ],
   "source": [
    "h[3]"
   ]
  },
  {
   "cell_type": "code",
   "execution_count": 13,
   "id": "344a6f04-b9e1-4f57-b5c7-a66c70d66b8a",
   "metadata": {},
   "outputs": [
    {
     "data": {
      "text/plain": [
       "90"
      ]
     },
     "execution_count": 13,
     "metadata": {},
     "output_type": "execute_result"
    }
   ],
   "source": [
    "h[0]"
   ]
  },
  {
   "cell_type": "code",
   "execution_count": 15,
   "id": "32af9c45-4961-4f62-9fc2-d8a57269d6b6",
   "metadata": {},
   "outputs": [
    {
     "data": {
      "text/plain": [
       "(90, 70, 50)"
      ]
     },
     "execution_count": 15,
     "metadata": {},
     "output_type": "execute_result"
    }
   ],
   "source": [
    "h[0:3]"
   ]
  },
  {
   "cell_type": "code",
   "execution_count": 17,
   "id": "8e3a5efa-2a4c-4b2f-b844-dfff767f37fd",
   "metadata": {},
   "outputs": [
    {
     "data": {
      "text/plain": [
       "{40, 50, 60, 70}"
      ]
     },
     "execution_count": 17,
     "metadata": {},
     "output_type": "execute_result"
    }
   ],
   "source": [
    "s={40,50,60,70}\n",
    "s"
   ]
  },
  {
   "cell_type": "code",
   "execution_count": 19,
   "id": "f0917c38-302c-413a-990e-be22f404fc21",
   "metadata": {},
   "outputs": [
    {
     "data": {
      "text/plain": [
       "set"
      ]
     },
     "execution_count": 19,
     "metadata": {},
     "output_type": "execute_result"
    }
   ],
   "source": [
    "type(s)"
   ]
  },
  {
   "cell_type": "code",
   "execution_count": 21,
   "id": "1e2adf71-30fb-4bbe-a7b9-db32a60d586c",
   "metadata": {},
   "outputs": [
    {
     "data": {
      "text/plain": [
       "{40, 50, 60, 70}"
      ]
     },
     "execution_count": 21,
     "metadata": {},
     "output_type": "execute_result"
    }
   ],
   "source": [
    "s"
   ]
  },
  {
   "cell_type": "code",
   "execution_count": 25,
   "id": "cc3a45ba-0092-4938-b965-8a0df3055312",
   "metadata": {},
   "outputs": [],
   "source": [
    "s.add(45)"
   ]
  },
  {
   "cell_type": "code",
   "execution_count": 27,
   "id": "b6c31b2a-fc60-42da-a696-a16d7e1b274b",
   "metadata": {},
   "outputs": [
    {
     "data": {
      "text/plain": [
       "{40, 45, 50, 60, 70}"
      ]
     },
     "execution_count": 27,
     "metadata": {},
     "output_type": "execute_result"
    }
   ],
   "source": [
    "s"
   ]
  },
  {
   "cell_type": "code",
   "execution_count": 29,
   "id": "76a2f2a0-2363-4a51-8e69-24244ead2630",
   "metadata": {},
   "outputs": [],
   "source": [
    "s.remove(60)"
   ]
  },
  {
   "cell_type": "code",
   "execution_count": 31,
   "id": "4720849e-6a1a-49d9-ad5f-8f8bc3402798",
   "metadata": {},
   "outputs": [
    {
     "data": {
      "text/plain": [
       "{40, 45, 50, 70}"
      ]
     },
     "execution_count": 31,
     "metadata": {},
     "output_type": "execute_result"
    }
   ],
   "source": [
    "s"
   ]
  },
  {
   "cell_type": "code",
   "execution_count": 35,
   "id": "bf67c807-ad99-4136-877a-168dd5f6a2ff",
   "metadata": {},
   "outputs": [],
   "source": [
    "y={10,20,30,50,70}"
   ]
  },
  {
   "cell_type": "code",
   "execution_count": 37,
   "id": "7a739b46-754b-43cb-b454-8c5d6075808b",
   "metadata": {},
   "outputs": [
    {
     "data": {
      "text/plain": [
       "{10, 20, 30, 50, 70}"
      ]
     },
     "execution_count": 37,
     "metadata": {},
     "output_type": "execute_result"
    }
   ],
   "source": [
    "y"
   ]
  },
  {
   "cell_type": "code",
   "execution_count": 41,
   "id": "890ba256-8d4e-4e5c-ac0d-66aa5ce91618",
   "metadata": {},
   "outputs": [
    {
     "data": {
      "text/plain": [
       "{50, 70}"
      ]
     },
     "execution_count": 41,
     "metadata": {},
     "output_type": "execute_result"
    }
   ],
   "source": [
    "s.intersection(y)"
   ]
  },
  {
   "cell_type": "code",
   "execution_count": 43,
   "id": "77f61751-af63-4d27-9edd-71d3ab149952",
   "metadata": {},
   "outputs": [
    {
     "data": {
      "text/plain": [
       "{50, 70}"
      ]
     },
     "execution_count": 43,
     "metadata": {},
     "output_type": "execute_result"
    }
   ],
   "source": [
    "y.intersection(s)"
   ]
  },
  {
   "cell_type": "code",
   "execution_count": 45,
   "id": "c7ff206c-fa34-4ede-9882-dc6b2d07152d",
   "metadata": {},
   "outputs": [
    {
     "data": {
      "text/plain": [
       "{10, 20, 30, 40, 45, 50, 70}"
      ]
     },
     "execution_count": 45,
     "metadata": {},
     "output_type": "execute_result"
    }
   ],
   "source": [
    "s.union(y)"
   ]
  },
  {
   "cell_type": "code",
   "execution_count": 39,
   "id": "96124524-42cb-4c0d-bc40-6bbe2def2ad1",
   "metadata": {},
   "outputs": [
    {
     "data": {
      "text/plain": [
       "{40, 45}"
      ]
     },
     "execution_count": 39,
     "metadata": {},
     "output_type": "execute_result"
    }
   ],
   "source": [
    "s.difference(y)"
   ]
  },
  {
   "cell_type": "code",
   "execution_count": 51,
   "id": "7714c3f3-6336-48de-9dbc-f578ac247ee0",
   "metadata": {},
   "outputs": [
    {
     "data": {
      "text/plain": [
       "{10, 20, 30}"
      ]
     },
     "execution_count": 51,
     "metadata": {},
     "output_type": "execute_result"
    }
   ],
   "source": [
    "y.difference(s)"
   ]
  },
  {
   "cell_type": "code",
   "execution_count": 49,
   "id": "c3468b79-fcf6-4972-a9b1-04548c3b2c82",
   "metadata": {},
   "outputs": [
    {
     "data": {
      "text/plain": [
       "{10, 20, 30, 40, 45}"
      ]
     },
     "execution_count": 49,
     "metadata": {},
     "output_type": "execute_result"
    }
   ],
   "source": [
    "s.symmetric_difference(y)"
   ]
  },
  {
   "cell_type": "code",
   "execution_count": 53,
   "id": "35afd59d-673f-4681-932d-a43b6925136e",
   "metadata": {},
   "outputs": [
    {
     "data": {
      "text/plain": [
       "{10, 20, 30, 40, 45}"
      ]
     },
     "execution_count": 53,
     "metadata": {},
     "output_type": "execute_result"
    }
   ],
   "source": [
    "y.symmetric_difference(s)"
   ]
  },
  {
   "cell_type": "code",
   "execution_count": 57,
   "id": "29e81f3d-05c7-446d-a67d-cc7bf11ec466",
   "metadata": {},
   "outputs": [
    {
     "data": {
      "text/plain": [
       "[70, 40, 45, 50]"
      ]
     },
     "execution_count": 57,
     "metadata": {},
     "output_type": "execute_result"
    }
   ],
   "source": [
    "n=list(s)\n",
    "n"
   ]
  },
  {
   "cell_type": "code",
   "execution_count": 59,
   "id": "daa7e0d7-e284-49db-b087-920a008ba163",
   "metadata": {},
   "outputs": [
    {
     "data": {
      "text/plain": [
       "50"
      ]
     },
     "execution_count": 59,
     "metadata": {},
     "output_type": "execute_result"
    }
   ],
   "source": [
    "n[3]"
   ]
  },
  {
   "cell_type": "code",
   "execution_count": 61,
   "id": "e9dd38fb-6814-4c37-a50d-2329513cd42c",
   "metadata": {},
   "outputs": [],
   "source": [
    "n.append(60)"
   ]
  },
  {
   "cell_type": "code",
   "execution_count": 67,
   "id": "d822a084-5ef5-41ec-9bac-fefeb7a7db81",
   "metadata": {},
   "outputs": [
    {
     "data": {
      "text/plain": [
       "{40, 45, 50, 60, 70}"
      ]
     },
     "execution_count": 67,
     "metadata": {},
     "output_type": "execute_result"
    }
   ],
   "source": [
    "e=set(n)\n",
    "e"
   ]
  },
  {
   "cell_type": "code",
   "execution_count": null,
   "id": "3a2a2e81-05ce-4ca9-8dca-3dbca59b92e7",
   "metadata": {},
   "outputs": [],
   "source": []
  },
  {
   "cell_type": "code",
   "execution_count": null,
   "id": "8d2b240b-7669-48cb-8edd-dec7c2e13e6e",
   "metadata": {},
   "outputs": [],
   "source": []
  }
 ],
 "metadata": {
  "kernelspec": {
   "display_name": "Python [conda env:base] *",
   "language": "python",
   "name": "conda-base-py"
  },
  "language_info": {
   "codemirror_mode": {
    "name": "ipython",
    "version": 3
   },
   "file_extension": ".py",
   "mimetype": "text/x-python",
   "name": "python",
   "nbconvert_exporter": "python",
   "pygments_lexer": "ipython3",
   "version": "3.12.7"
  }
 },
 "nbformat": 4,
 "nbformat_minor": 5
}
