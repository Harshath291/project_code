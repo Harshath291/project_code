{
 "cells": [
  {
   "cell_type": "code",
   "execution_count": 1,
   "id": "1b18695a-8f60-430f-a390-a73491cdbb59",
   "metadata": {},
   "outputs": [],
   "source": [
    "import pandas as pd\n",
    "import numpy as np"
   ]
  },
  {
   "cell_type": "code",
   "execution_count": 3,
   "id": "96039399-a655-42cc-817b-0eb976861946",
   "metadata": {},
   "outputs": [],
   "source": [
    "a=np.random.randint(20,60,15)"
   ]
  },
  {
   "cell_type": "code",
   "execution_count": 5,
   "id": "638c64cb-9a17-4efc-ad1b-a7a27d44cb13",
   "metadata": {},
   "outputs": [
    {
     "data": {
      "text/plain": [
       "array([50, 36, 24, 49, 20, 50, 46, 48, 31, 29, 50, 36, 30, 59, 44])"
      ]
     },
     "execution_count": 5,
     "metadata": {},
     "output_type": "execute_result"
    }
   ],
   "source": [
    "a"
   ]
  },
  {
   "cell_type": "code",
   "execution_count": 7,
   "id": "7763744c-be4d-442a-a92e-99a4f2cf3f6f",
   "metadata": {},
   "outputs": [
    {
     "data": {
      "text/plain": [
       "array([50, 29, 31, 48, 46, 50, 20])"
      ]
     },
     "execution_count": 7,
     "metadata": {},
     "output_type": "execute_result"
    }
   ],
   "source": [
    "a[-5:-12:-1]"
   ]
  },
  {
   "cell_type": "code",
   "execution_count": 9,
   "id": "1cfd8c7c-7693-400c-a47f-7bc059575b94",
   "metadata": {},
   "outputs": [
    {
     "data": {
      "text/plain": [
       "1"
      ]
     },
     "execution_count": 9,
     "metadata": {},
     "output_type": "execute_result"
    }
   ],
   "source": [
    "a.ndim"
   ]
  },
  {
   "cell_type": "code",
   "execution_count": 11,
   "id": "38caf544-f65c-4fa0-a447-54cdfccb9c07",
   "metadata": {},
   "outputs": [
    {
     "data": {
      "text/plain": [
       "36"
      ]
     },
     "execution_count": 11,
     "metadata": {},
     "output_type": "execute_result"
    }
   ],
   "source": [
    "a[-4]"
   ]
  },
  {
   "cell_type": "code",
   "execution_count": 25,
   "id": "77979808-159c-45c1-a4dc-d2da8175c162",
   "metadata": {},
   "outputs": [
    {
     "data": {
      "text/plain": [
       "array([[76, 47, 66, 57, 77, 72, 76, 53],\n",
       "       [77, 56, 53, 69, 76, 63, 69, 60],\n",
       "       [77, 49, 53, 65, 59, 77, 65, 55],\n",
       "       [48, 45, 50, 46, 75, 55, 48, 64],\n",
       "       [57, 73, 63, 63, 58, 62, 57, 53],\n",
       "       [68, 54, 65, 62, 70, 76, 63, 52],\n",
       "       [53, 54, 58, 66, 71, 46, 45, 75]])"
      ]
     },
     "execution_count": 25,
     "metadata": {},
     "output_type": "execute_result"
    }
   ],
   "source": [
    "\n",
    "b=np.random.randint(45,78,(7,8))\n",
    "b"
   ]
  },
  {
   "cell_type": "code",
   "execution_count": 23,
   "id": "dadd93b5-c43e-4c03-9d96-c85825f5c6f1",
   "metadata": {},
   "outputs": [
    {
     "data": {
      "text/plain": [
       "array([50, 60, 50, 74, 50, 45, 74, 77])"
      ]
     },
     "execution_count": 23,
     "metadata": {},
     "output_type": "execute_result"
    }
   ],
   "source": [
    "b[0]"
   ]
  },
  {
   "cell_type": "code",
   "execution_count": 19,
   "id": "1e2c7bd6-35cc-42ce-bbf1-7e61f11c1ccb",
   "metadata": {},
   "outputs": [
    {
     "data": {
      "text/plain": [
       "array([60, 66, 67, 55, 46, 73, 49, 57])"
      ]
     },
     "execution_count": 19,
     "metadata": {},
     "output_type": "execute_result"
    }
   ],
   "source": [
    "b[-1]# last row"
   ]
  },
  {
   "cell_type": "code",
   "execution_count": 27,
   "id": "6a112454-0cc0-4d16-b790-5d9091a93fd2",
   "metadata": {},
   "outputs": [
    {
     "data": {
      "text/plain": [
       "array([57, 69, 65, 46, 63, 62, 66])"
      ]
     },
     "execution_count": 27,
     "metadata": {},
     "output_type": "execute_result"
    }
   ],
   "source": [
    "b[:,3]"
   ]
  },
  {
   "cell_type": "code",
   "execution_count": 29,
   "id": "312bee72-c324-4190-a344-29effd6eae52",
   "metadata": {},
   "outputs": [
    {
     "data": {
      "text/plain": [
       "array([53, 60, 55, 64, 53, 52, 75])"
      ]
     },
     "execution_count": 29,
     "metadata": {},
     "output_type": "execute_result"
    }
   ],
   "source": [
    "b[:,7] # 7th column"
   ]
  },
  {
   "cell_type": "code",
   "execution_count": 31,
   "id": "e261a158-408b-4b44-abdf-9dec79ddec97",
   "metadata": {},
   "outputs": [
    {
     "data": {
      "text/plain": [
       "69"
      ]
     },
     "execution_count": 31,
     "metadata": {},
     "output_type": "execute_result"
    }
   ],
   "source": [
    "b[1,3]"
   ]
  },
  {
   "cell_type": "code",
   "execution_count": 35,
   "id": "916e8659-d75c-410f-8ae3-99adb283baa4",
   "metadata": {},
   "outputs": [
    {
     "data": {
      "text/plain": [
       "63"
      ]
     },
     "execution_count": 35,
     "metadata": {},
     "output_type": "execute_result"
    }
   ],
   "source": [
    "b[5,6] #5th row and 6th column"
   ]
  },
  {
   "cell_type": "code",
   "execution_count": 43,
   "id": "a18b25bf-156f-483b-a14c-2c3b584536cd",
   "metadata": {},
   "outputs": [
    {
     "data": {
      "text/plain": [
       "array([49, 53, 65, 59, 77])"
      ]
     },
     "execution_count": 43,
     "metadata": {},
     "output_type": "execute_result"
    }
   ],
   "source": [
    "b[2,1:6]"
   ]
  },
  {
   "cell_type": "markdown",
   "id": "edd6435c-697d-4da3-ab55-6922bf94c59d",
   "metadata": {},
   "source": [
    "array [row_start : row-end : row-step , col_start : col_end : col_step]]"
   ]
  },
  {
   "cell_type": "code",
   "execution_count": 46,
   "id": "111fb839-8264-454b-b3ac-dbdb74921622",
   "metadata": {},
   "outputs": [
    {
     "data": {
      "text/plain": [
       "array([[76, 47, 66, 57, 77, 72, 76, 53],\n",
       "       [77, 56, 53, 69, 76, 63, 69, 60],\n",
       "       [77, 49, 53, 65, 59, 77, 65, 55],\n",
       "       [48, 45, 50, 46, 75, 55, 48, 64],\n",
       "       [57, 73, 63, 63, 58, 62, 57, 53],\n",
       "       [68, 54, 65, 62, 70, 76, 63, 52],\n",
       "       [53, 54, 58, 66, 71, 46, 45, 75]])"
      ]
     },
     "execution_count": 46,
     "metadata": {},
     "output_type": "execute_result"
    }
   ],
   "source": [
    "b"
   ]
  },
  {
   "cell_type": "code",
   "execution_count": 50,
   "id": "a6bbfb38-6432-4162-9b30-8ff589563161",
   "metadata": {},
   "outputs": [
    {
     "data": {
      "text/plain": [
       "array([[77, 56, 53, 69, 76, 63, 69, 60],\n",
       "       [77, 49, 53, 65, 59, 77, 65, 55],\n",
       "       [48, 45, 50, 46, 75, 55, 48, 64],\n",
       "       [57, 73, 63, 63, 58, 62, 57, 53],\n",
       "       [68, 54, 65, 62, 70, 76, 63, 52]])"
      ]
     },
     "execution_count": 50,
     "metadata": {},
     "output_type": "execute_result"
    }
   ],
   "source": [
    "b[1:6]"
   ]
  },
  {
   "cell_type": "code",
   "execution_count": 64,
   "id": "bf1464d4-677d-4fed-9760-38a29c9423e7",
   "metadata": {},
   "outputs": [
    {
     "data": {
      "text/plain": [
       "array([[56, 53, 69, 76, 63],\n",
       "       [45, 50, 46, 75, 55],\n",
       "       [54, 65, 62, 70, 76]])"
      ]
     },
     "execution_count": 64,
     "metadata": {},
     "output_type": "execute_result"
    }
   ],
   "source": [
    "b[1:6:2,1:6]"
   ]
  },
  {
   "cell_type": "code",
   "execution_count": 69,
   "id": "78d87ddf-8090-4301-accc-1fc5056bf500",
   "metadata": {},
   "outputs": [
    {
     "data": {
      "text/plain": [
       "array([[53, 65, 59, 77],\n",
       "       [50, 46, 75, 55],\n",
       "       [63, 63, 58, 62]])"
      ]
     },
     "execution_count": 69,
     "metadata": {},
     "output_type": "execute_result"
    }
   ],
   "source": [
    "b[2:5,2:6]"
   ]
  },
  {
   "cell_type": "code",
   "execution_count": 73,
   "id": "c3ec1d55-dc13-48c9-a674-f74780e2aba4",
   "metadata": {},
   "outputs": [
    {
     "data": {
      "text/plain": [
       "array([[56, 76, 60],\n",
       "       [45, 75, 64],\n",
       "       [54, 70, 52]])"
      ]
     },
     "execution_count": 73,
     "metadata": {},
     "output_type": "execute_result"
    }
   ],
   "source": [
    "b[1:6:2,1:8:3]"
   ]
  },
  {
   "cell_type": "code",
   "execution_count": null,
   "id": "c67e7c10-bb27-459f-924e-fe37338e19bc",
   "metadata": {},
   "outputs": [],
   "source": []
  }
 ],
 "metadata": {
  "kernelspec": {
   "display_name": "Python [conda env:base] *",
   "language": "python",
   "name": "conda-base-py"
  },
  "language_info": {
   "codemirror_mode": {
    "name": "ipython",
    "version": 3
   },
   "file_extension": ".py",
   "mimetype": "text/x-python",
   "name": "python",
   "nbconvert_exporter": "python",
   "pygments_lexer": "ipython3",
   "version": "3.12.7"
  }
 },
 "nbformat": 4,
 "nbformat_minor": 5
}
