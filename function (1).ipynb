{
 "cells": [
  {
   "cell_type": "code",
   "execution_count": null,
   "id": "4cf392c3-2daf-402f-91ea-84b3e38443dd",
   "metadata": {},
   "outputs": [],
   "source": [
    "def functionname( parameter):\n",
    "    block of code \n",
    "    return output"
   ]
  },
  {
   "cell_type": "code",
   "execution_count": 4,
   "id": "9d740376-047d-49be-99a7-92b25b92b1fd",
   "metadata": {},
   "outputs": [],
   "source": [
    "def calArea(r):\n",
    "    a=3.14*r*r\n",
    "    return a"
   ]
  },
  {
   "cell_type": "code",
   "execution_count": 6,
   "id": "c8fdf7ae-d1f8-45cb-8e1d-b0f7261a6eb6",
   "metadata": {},
   "outputs": [
    {
     "data": {
      "text/plain": [
       "314.0"
      ]
     },
     "execution_count": 6,
     "metadata": {},
     "output_type": "execute_result"
    }
   ],
   "source": [
    "calArea(r=10)"
   ]
  },
  {
   "cell_type": "code",
   "execution_count": 10,
   "id": "e9dbc708-d154-441b-b90c-7d9e87351e2a",
   "metadata": {},
   "outputs": [],
   "source": [
    "def calArea(r):\n",
    "    a=3.14*r*r\n",
    "    print(a)"
   ]
  },
  {
   "cell_type": "code",
   "execution_count": 12,
   "id": "983a12fa-5e28-438d-86ff-a51de555f3c8",
   "metadata": {},
   "outputs": [
    {
     "name": "stdout",
     "output_type": "stream",
     "text": [
      "314.0\n"
     ]
    }
   ],
   "source": [
    "calArea(r=10)"
   ]
  },
  {
   "cell_type": "code",
   "execution_count": 14,
   "id": "4550bedb-48f5-4662-b028-689d396f67e0",
   "metadata": {},
   "outputs": [
    {
     "name": "stdout",
     "output_type": "stream",
     "text": [
      "314.0\n"
     ]
    }
   ],
   "source": [
    "w=calArea(r=10)\n",
    "w"
   ]
  },
  {
   "cell_type": "code",
   "execution_count": 16,
   "id": "ae912ad5-8dbc-494f-b1d9-5f5af363e4b4",
   "metadata": {},
   "outputs": [
    {
     "data": {
      "text/plain": [
       "NoneType"
      ]
     },
     "execution_count": 16,
     "metadata": {},
     "output_type": "execute_result"
    }
   ],
   "source": [
    "type(w)"
   ]
  },
  {
   "cell_type": "code",
   "execution_count": 18,
   "id": "5f7884a8-393a-4d92-86a5-d88a28c01408",
   "metadata": {},
   "outputs": [],
   "source": [
    "def d_to_inr(x):\n",
    "    print(x*85)"
   ]
  },
  {
   "cell_type": "code",
   "execution_count": 28,
   "id": "adc3180b-a31e-485d-aca5-20c66e156be6",
   "metadata": {},
   "outputs": [
    {
     "data": {
      "text/plain": [
       "1275"
      ]
     },
     "execution_count": 28,
     "metadata": {},
     "output_type": "execute_result"
    }
   ],
   "source": [
    "a=d_to_inr(15)\n",
    "a"
   ]
  },
  {
   "cell_type": "code",
   "execution_count": 22,
   "id": "f682c35c-89f5-4309-a8cb-809ed602f391",
   "metadata": {},
   "outputs": [
    {
     "name": "stdout",
     "output_type": "stream",
     "text": [
      "1700\n"
     ]
    }
   ],
   "source": [
    "b=d_to_inr(20)\n",
    "b"
   ]
  },
  {
   "cell_type": "code",
   "execution_count": 30,
   "id": "9acb82d7-80d1-4f98-9ce7-fd2c4cb00400",
   "metadata": {},
   "outputs": [
    {
     "ename": "TypeError",
     "evalue": "unsupported operand type(s) for +: 'NoneType' and 'int'",
     "output_type": "error",
     "traceback": [
      "\u001b[1;31m---------------------------------------------------------------------------\u001b[0m",
      "\u001b[1;31mTypeError\u001b[0m                                 Traceback (most recent call last)",
      "Cell \u001b[1;32mIn[30], line 1\u001b[0m\n\u001b[1;32m----> 1\u001b[0m b\u001b[38;5;241m+\u001b[39ma\n",
      "\u001b[1;31mTypeError\u001b[0m: unsupported operand type(s) for +: 'NoneType' and 'int'"
     ]
    }
   ],
   "source": [
    "b+a"
   ]
  },
  {
   "cell_type": "markdown",
   "id": "0fbfd1ee-06d9-4a52-9771-709fda7c45cc",
   "metadata": {},
   "source": [
    "sum of print function wont give output"
   ]
  },
  {
   "cell_type": "code",
   "execution_count": 32,
   "id": "a54a5a81-f9d8-4da7-b7d7-cb74aa7f2e00",
   "metadata": {},
   "outputs": [],
   "source": [
    "def d_to_inr(x):\n",
    "    return x*85"
   ]
  },
  {
   "cell_type": "code",
   "execution_count": 34,
   "id": "0a610da7-7f9d-4033-a986-94a3eb7f6210",
   "metadata": {},
   "outputs": [
    {
     "data": {
      "text/plain": [
       "1275"
      ]
     },
     "execution_count": 34,
     "metadata": {},
     "output_type": "execute_result"
    }
   ],
   "source": [
    "a=d_to_inr(15)\n",
    "a"
   ]
  },
  {
   "cell_type": "code",
   "execution_count": 38,
   "id": "1f0d6308-4711-44b4-b022-043c692f6124",
   "metadata": {},
   "outputs": [
    {
     "data": {
      "text/plain": [
       "1700"
      ]
     },
     "execution_count": 38,
     "metadata": {},
     "output_type": "execute_result"
    }
   ],
   "source": [
    "b=d_to_inr(20)\n",
    "b"
   ]
  },
  {
   "cell_type": "code",
   "execution_count": 40,
   "id": "8c75a6ea-fbe4-40a9-b9d4-6adaae1b5d9c",
   "metadata": {},
   "outputs": [
    {
     "data": {
      "text/plain": [
       "2975"
      ]
     },
     "execution_count": 40,
     "metadata": {},
     "output_type": "execute_result"
    }
   ],
   "source": [
    "b+a"
   ]
  },
  {
   "cell_type": "markdown",
   "id": "461f6109-4eab-45fb-b483-290e3f55ec2e",
   "metadata": {},
   "source": [
    "addition of return function will give output"
   ]
  },
  {
   "cell_type": "code",
   "execution_count": 43,
   "id": "0de18ace-9ad0-46ff-b4b4-a37fa37e8497",
   "metadata": {},
   "outputs": [
    {
     "data": {
      "text/plain": [
       "'india'"
      ]
     },
     "execution_count": 43,
     "metadata": {},
     "output_type": "execute_result"
    }
   ],
   "source": [
    "c='India'\n",
    "c.lower()"
   ]
  },
  {
   "cell_type": "code",
   "execution_count": 45,
   "id": "e2d9db9c-83b3-4d57-a15b-83d8593c777c",
   "metadata": {},
   "outputs": [],
   "source": [
    "def aor(l,w):\n",
    "    area = l*w\n",
    "    return area"
   ]
  },
  {
   "cell_type": "code",
   "execution_count": 47,
   "id": "6d9abb04-a9b6-40d2-8ce0-6f7393656cbd",
   "metadata": {},
   "outputs": [
    {
     "data": {
      "text/plain": [
       "50"
      ]
     },
     "execution_count": 47,
     "metadata": {},
     "output_type": "execute_result"
    }
   ],
   "source": [
    "aor(w=5,l=10)"
   ]
  },
  {
   "cell_type": "code",
   "execution_count": 49,
   "id": "4c585565-7692-473d-a5d5-f172c8f534d4",
   "metadata": {},
   "outputs": [
    {
     "data": {
      "text/plain": [
       "300"
      ]
     },
     "execution_count": 49,
     "metadata": {},
     "output_type": "execute_result"
    }
   ],
   "source": [
    "aor(20,15)"
   ]
  },
  {
   "cell_type": "code",
   "execution_count": 75,
   "id": "1abc9390-09fa-454e-9357-51cb1dd2fe2c",
   "metadata": {},
   "outputs": [],
   "source": [
    "def area(radius,length,width):\n",
    "    aoc=3.14*radius*radius\n",
    "    aor=length*width\n",
    "    return [aor,aoc]"
   ]
  },
  {
   "cell_type": "code",
   "execution_count": 77,
   "id": "1d867b85-ab7e-40de-a8df-30f1537cb875",
   "metadata": {},
   "outputs": [
    {
     "data": {
      "text/plain": [
       "[100, 314.0]"
      ]
     },
     "execution_count": 77,
     "metadata": {},
     "output_type": "execute_result"
    }
   ],
   "source": [
    "area(radius=10,length=20,width=5)"
   ]
  },
  {
   "cell_type": "code",
   "execution_count": 79,
   "id": "9f4e9257-cf2f-40da-b06d-722c1d54b77c",
   "metadata": {},
   "outputs": [
    {
     "data": {
      "text/plain": [
       "[100, 314.0]"
      ]
     },
     "execution_count": 79,
     "metadata": {},
     "output_type": "execute_result"
    }
   ],
   "source": [
    "d=area(radius=10,length=20,width=5)\n",
    "d"
   ]
  },
  {
   "cell_type": "code",
   "execution_count": 81,
   "id": "79f78a77-0289-4818-ad33-255587d2c745",
   "metadata": {},
   "outputs": [
    {
     "data": {
      "text/plain": [
       "list"
      ]
     },
     "execution_count": 81,
     "metadata": {},
     "output_type": "execute_result"
    }
   ],
   "source": [
    "type(d)"
   ]
  },
  {
   "cell_type": "code",
   "execution_count": 83,
   "id": "6bab395d-73f3-4209-95d0-9612de51b3a1",
   "metadata": {},
   "outputs": [
    {
     "data": {
      "text/plain": [
       "100"
      ]
     },
     "execution_count": 83,
     "metadata": {},
     "output_type": "execute_result"
    }
   ],
   "source": [
    "d[0]"
   ]
  },
  {
   "cell_type": "code",
   "execution_count": 85,
   "id": "97fbcf24-41b1-461e-8ae4-3941400166f6",
   "metadata": {},
   "outputs": [
    {
     "data": {
      "text/plain": [
       "314.0"
      ]
     },
     "execution_count": 85,
     "metadata": {},
     "output_type": "execute_result"
    }
   ],
   "source": [
    "d[1]"
   ]
  },
  {
   "cell_type": "code",
   "execution_count": 87,
   "id": "c2ac9656-ffb1-44e0-92f2-1f392c169379",
   "metadata": {},
   "outputs": [],
   "source": [
    "def area(radius,length,width):\n",
    "    aoc=3.14*radius*radius\n",
    "    aor=length*width\n",
    "    return aor,aoc"
   ]
  },
  {
   "cell_type": "code",
   "execution_count": 89,
   "id": "67ba5867-a317-400e-a661-9af71fc225bd",
   "metadata": {},
   "outputs": [
    {
     "data": {
      "text/plain": [
       "(100, 314.0)"
      ]
     },
     "execution_count": 89,
     "metadata": {},
     "output_type": "execute_result"
    }
   ],
   "source": [
    "area(radius=10,length=20,width=5)"
   ]
  },
  {
   "cell_type": "code",
   "execution_count": 91,
   "id": "a7713c04-628e-4eaa-812d-222c9496252d",
   "metadata": {},
   "outputs": [
    {
     "data": {
      "text/plain": [
       "(100, 314.0)"
      ]
     },
     "execution_count": 91,
     "metadata": {},
     "output_type": "execute_result"
    }
   ],
   "source": [
    "d=area(radius=10,length=20,width=5)\n",
    "d"
   ]
  },
  {
   "cell_type": "code",
   "execution_count": 93,
   "id": "83d81d42-3f00-45c1-b1eb-12c316a8bf44",
   "metadata": {},
   "outputs": [
    {
     "data": {
      "text/plain": [
       "tuple"
      ]
     },
     "execution_count": 93,
     "metadata": {},
     "output_type": "execute_result"
    }
   ],
   "source": [
    "type(d)"
   ]
  },
  {
   "cell_type": "code",
   "execution_count": 95,
   "id": "364ebd98-3286-48e2-a839-dbf6cf08385f",
   "metadata": {},
   "outputs": [
    {
     "data": {
      "text/plain": [
       "100"
      ]
     },
     "execution_count": 95,
     "metadata": {},
     "output_type": "execute_result"
    }
   ],
   "source": [
    "d[0]"
   ]
  },
  {
   "cell_type": "code",
   "execution_count": 97,
   "id": "8823b5b9-ab75-4bcb-afaf-e833fe9442a4",
   "metadata": {},
   "outputs": [
    {
     "data": {
      "text/plain": [
       "314.0"
      ]
     },
     "execution_count": 97,
     "metadata": {},
     "output_type": "execute_result"
    }
   ],
   "source": [
    "d[1]"
   ]
  },
  {
   "cell_type": "code",
   "execution_count": 101,
   "id": "8b251314-6829-4934-b0f9-0d0ac1ba97af",
   "metadata": {},
   "outputs": [],
   "source": [
    "def area(radius,length,width):\n",
    "    aoc=3.14*radius*radius\n",
    "    aor=length*width\n",
    "    return {aor,aoc}"
   ]
  },
  {
   "cell_type": "code",
   "execution_count": 107,
   "id": "45cb9e18-32fd-4b09-bb1f-762b527a90be",
   "metadata": {},
   "outputs": [
    {
     "data": {
      "text/plain": [
       "{100, 314.0}"
      ]
     },
     "execution_count": 107,
     "metadata": {},
     "output_type": "execute_result"
    }
   ],
   "source": [
    "d=area(radius=10,length=20,width=5)\n",
    "d"
   ]
  },
  {
   "cell_type": "code",
   "execution_count": 109,
   "id": "163aea24-dc20-4250-b150-50ebc22cabe7",
   "metadata": {},
   "outputs": [
    {
     "data": {
      "text/plain": [
       "set"
      ]
     },
     "execution_count": 109,
     "metadata": {},
     "output_type": "execute_result"
    }
   ],
   "source": [
    "type(d)"
   ]
  },
  {
   "cell_type": "code",
   "execution_count": 111,
   "id": "10857703-9aae-4a8e-a0ce-8b0b5ecf4336",
   "metadata": {},
   "outputs": [],
   "source": [
    "def area(radius,length,width):\n",
    "    aoc=3.14*radius*radius\n",
    "    aor=length*width\n",
    "    return {'Area of rect':aor, 'Area of circle':aoc}"
   ]
  },
  {
   "cell_type": "code",
   "execution_count": 113,
   "id": "a52ee6f1-8ccd-4336-826c-0aad3c1052f3",
   "metadata": {},
   "outputs": [
    {
     "data": {
      "text/plain": [
       "{'Area of rect': 100, 'Area of circle': 314.0}"
      ]
     },
     "execution_count": 113,
     "metadata": {},
     "output_type": "execute_result"
    }
   ],
   "source": []
  },
  {
   "cell_type": "code",
   "execution_count": 137,
   "id": "2ee40ced-4a42-4dd9-8289-7bad1898c294",
   "metadata": {},
   "outputs": [
    {
     "data": {
      "text/plain": [
       "'HyderabAAd 500008 Telanagna'"
      ]
     },
     "execution_count": 137,
     "metadata": {},
     "output_type": "execute_result"
    }
   ],
   "source": [
    "t='HyderabAAd 500008 Telanagna'\n",
    "t"
   ]
  },
  {
   "cell_type": "code",
   "execution_count": 139,
   "id": "03ca9dba-0c8a-4e25-b90f-80f329670c6b",
   "metadata": {},
   "outputs": [],
   "source": [
    "def countA(x):\n",
    "    for x in t:\n",
    "        return(alphabets,digits)"
   ]
  },
  {
   "cell_type": "code",
   "execution_count": 141,
   "id": "2652211a-262a-4baf-a8f5-14f3d8b135fe",
   "metadata": {},
   "outputs": [
    {
     "data": {
      "text/plain": [
       "'HyderabAAd 500008 Telanagna'"
      ]
     },
     "execution_count": 141,
     "metadata": {},
     "output_type": "execute_result"
    }
   ],
   "source": [
    "t"
   ]
  },
  {
   "cell_type": "code",
   "execution_count": 165,
   "id": "f96962a9-d81e-4f10-8615-d354f0d6bf9a",
   "metadata": {},
   "outputs": [],
   "source": [
    "def count_num_alpha(x):\n",
    "    c=0\n",
    "    d=0\n",
    "    for i in x:\n",
    "        if i.isalpha():\n",
    "            c+=1\n",
    "        elif i.isnumeric():\n",
    "            d+=1\n",
    "    return {'Number of alphabets':c,'Number of digits':d}"
   ]
  },
  {
   "cell_type": "code",
   "execution_count": 167,
   "id": "b2a719d1-1b88-4c79-b81b-6b7c4e18794f",
   "metadata": {},
   "outputs": [
    {
     "data": {
      "text/plain": [
       "{'Number of alphabets': 19, 'Number of digits': 6}"
      ]
     },
     "execution_count": 167,
     "metadata": {},
     "output_type": "execute_result"
    }
   ],
   "source": [
    "count_num_alpha(t)"
   ]
  },
  {
   "cell_type": "code",
   "execution_count": 177,
   "id": "d06d364e-2d19-4657-82a4-778a825f82b5",
   "metadata": {},
   "outputs": [],
   "source": [
    "x='Hyderabad 50008 telangana '\n",
    "def remove_num(x):\n",
    "\n",
    "    y=''\n",
    "    for i in x:\n",
    "        if i.isdigit()==False:\n",
    "            y+=i\n",
    "        return y"
   ]
  },
  {
   "cell_type": "code",
   "execution_count": 179,
   "id": "48f707d6-e41d-43ea-8e28-d645fef7595f",
   "metadata": {},
   "outputs": [
    {
     "data": {
      "text/plain": [
       "'H'"
      ]
     },
     "execution_count": 179,
     "metadata": {},
     "output_type": "execute_result"
    }
   ],
   "source": [
    "remove_num(t)"
   ]
  },
  {
   "cell_type": "code",
   "execution_count": null,
   "id": "9bc06afd-2ee2-4f6e-96c5-4369c0474b77",
   "metadata": {},
   "outputs": [],
   "source": []
  }
 ],
 "metadata": {
  "kernelspec": {
   "display_name": "Python [conda env:base] *",
   "language": "python",
   "name": "conda-base-py"
  },
  "language_info": {
   "codemirror_mode": {
    "name": "ipython",
    "version": 3
   },
   "file_extension": ".py",
   "mimetype": "text/x-python",
   "name": "python",
   "nbconvert_exporter": "python",
   "pygments_lexer": "ipython3",
   "version": "3.12.7"
  }
 },
 "nbformat": 4,
 "nbformat_minor": 5
}
