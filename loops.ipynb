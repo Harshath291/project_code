{
 "cells": [
  {
   "cell_type": "markdown",
   "id": "77c89b99-b83f-4e7f-b178-8a94c22f5879",
   "metadata": {},
   "source": [
    "if condition1:\n",
    "    task1 block of code\n",
    "elif condition2:\n",
    "    task2 block of code\n",
    "elif condition3:\n",
    "    task3 block of code\n",
    "else:\n",
    "    task4 block of code"
   ]
  },
  {
   "cell_type": "code",
   "execution_count": 3,
   "id": "b8e9017e-5266-403e-b57e-b68f4a95b620",
   "metadata": {},
   "outputs": [
    {
     "name": "stdout",
     "output_type": "stream",
     "text": [
      "odd\n"
     ]
    }
   ],
   "source": [
    "x=9\n",
    "if x%2==0:\n",
    "    print(\"Even\")\n",
    "else:\n",
    "    print(\"odd\")"
   ]
  },
  {
   "cell_type": "code",
   "execution_count": 6,
   "id": "55494bb5-7857-4fc5-8a2c-62c235fe7b99",
   "metadata": {},
   "outputs": [
    {
     "data": {
      "text/plain": [
       "'india'"
      ]
     },
     "execution_count": 6,
     "metadata": {},
     "output_type": "execute_result"
    }
   ],
   "source": [
    "y='india'\n",
    "y"
   ]
  },
  {
   "cell_type": "code",
   "execution_count": 8,
   "id": "7b49419f-4423-4590-9145-c0d6fc4241f7",
   "metadata": {},
   "outputs": [
    {
     "data": {
      "text/plain": [
       "True"
      ]
     },
     "execution_count": 8,
     "metadata": {},
     "output_type": "execute_result"
    }
   ],
   "source": [
    "y.isalpha()"
   ]
  },
  {
   "cell_type": "code",
   "execution_count": 10,
   "id": "446e42a5-daa1-43cb-9bd5-8e51f326d979",
   "metadata": {},
   "outputs": [
    {
     "data": {
      "text/plain": [
       "'india12'"
      ]
     },
     "execution_count": 10,
     "metadata": {},
     "output_type": "execute_result"
    }
   ],
   "source": [
    "x='india12'\n",
    "x"
   ]
  },
  {
   "cell_type": "code",
   "execution_count": 12,
   "id": "38c5d66a-d571-4b10-a72f-29509408effc",
   "metadata": {},
   "outputs": [
    {
     "data": {
      "text/plain": [
       "False"
      ]
     },
     "execution_count": 12,
     "metadata": {},
     "output_type": "execute_result"
    }
   ],
   "source": [
    "x.isalpha()"
   ]
  },
  {
   "cell_type": "code",
   "execution_count": 18,
   "id": "00dd2022-52dd-47f5-8c39-b313cb3656f2",
   "metadata": {},
   "outputs": [],
   "source": [
    "name ='Mirza'"
   ]
  },
  {
   "cell_type": "code",
   "execution_count": 20,
   "id": "3eb14f46-8e21-4d05-ab5a-4d8541fbd05c",
   "metadata": {},
   "outputs": [
    {
     "name": "stdout",
     "output_type": "stream",
     "text": [
      "Accept\n"
     ]
    }
   ],
   "source": [
    "if name.isalpha()==True:\n",
    "    print('Accept')\n",
    "else:\n",
    "    print('Name should not contain digits symbols')\n"
   ]
  },
  {
   "cell_type": "code",
   "execution_count": 22,
   "id": "d0384457-a2d3-4fea-8a26-2634c9f621c8",
   "metadata": {},
   "outputs": [],
   "source": [
    "vane='tiger65'"
   ]
  },
  {
   "cell_type": "code",
   "execution_count": 24,
   "id": "cd1aa666-48d6-4984-9da0-741cd11fe25c",
   "metadata": {},
   "outputs": [
    {
     "name": "stdout",
     "output_type": "stream",
     "text": [
      "Name should not contain digits symbols\n"
     ]
    }
   ],
   "source": [
    "if vane.lower()==True:\n",
    "    print('Accept')\n",
    "else:\n",
    "    print('Name should not contain digits symbols')\n"
   ]
  },
  {
   "cell_type": "code",
   "execution_count": 26,
   "id": "b3b6a61c-3700-425c-aec2-8c359fafadc2",
   "metadata": {},
   "outputs": [
    {
     "data": {
      "text/plain": [
       "'tiger65'"
      ]
     },
     "execution_count": 26,
     "metadata": {},
     "output_type": "execute_result"
    }
   ],
   "source": [
    "vane.lower()"
   ]
  },
  {
   "cell_type": "code",
   "execution_count": 28,
   "id": "f322debb-5a32-44e4-b81b-8bf7e2c99ddd",
   "metadata": {},
   "outputs": [
    {
     "data": {
      "text/plain": [
       "True"
      ]
     },
     "execution_count": 28,
     "metadata": {},
     "output_type": "execute_result"
    }
   ],
   "source": [
    "bool(name.lower)"
   ]
  },
  {
   "cell_type": "code",
   "execution_count": 30,
   "id": "c1f3e086-822e-4492-9765-b9b99634ea1d",
   "metadata": {},
   "outputs": [
    {
     "data": {
      "text/plain": [
       "True"
      ]
     },
     "execution_count": 30,
     "metadata": {},
     "output_type": "execute_result"
    }
   ],
   "source": [
    "bool(vane.lower)"
   ]
  },
  {
   "cell_type": "code",
   "execution_count": 32,
   "id": "c04073ea-a7a0-48a9-870a-2118881f0913",
   "metadata": {},
   "outputs": [
    {
     "data": {
      "text/plain": [
       "False"
      ]
     },
     "execution_count": 32,
     "metadata": {},
     "output_type": "execute_result"
    }
   ],
   "source": [
    "vane.isalpha()"
   ]
  },
  {
   "cell_type": "code",
   "execution_count": 34,
   "id": "2d2905ea-89a4-4551-ab51-ad5369d520ee",
   "metadata": {},
   "outputs": [
    {
     "data": {
      "text/plain": [
       "'Telangana'"
      ]
     },
     "execution_count": 34,
     "metadata": {},
     "output_type": "execute_result"
    }
   ],
   "source": [
    "x='Telangana'\n",
    "x"
   ]
  },
  {
   "cell_type": "code",
   "execution_count": 36,
   "id": "467ae03c-8e43-4658-8d08-037e3ac3f834",
   "metadata": {},
   "outputs": [
    {
     "data": {
      "text/plain": [
       "'mumbai'"
      ]
     },
     "execution_count": 36,
     "metadata": {},
     "output_type": "execute_result"
    }
   ],
   "source": [
    "x='mumbai'\n",
    "x"
   ]
  },
  {
   "cell_type": "code",
   "execution_count": 38,
   "id": "d3da1c62-d329-419d-b748-2fe1c3d6b096",
   "metadata": {},
   "outputs": [
    {
     "data": {
      "text/plain": [
       "'Maharashtra'"
      ]
     },
     "execution_count": 38,
     "metadata": {},
     "output_type": "execute_result"
    }
   ],
   "source": [
    "x='Maharashtra'\n",
    "x"
   ]
  },
  {
   "cell_type": "code",
   "execution_count": 42,
   "id": "dd06354a-c940-427e-a912-56289c30e16a",
   "metadata": {},
   "outputs": [
    {
     "data": {
      "text/plain": [
       "'telangana'"
      ]
     },
     "execution_count": 42,
     "metadata": {},
     "output_type": "execute_result"
    }
   ],
   "source": [
    "x='telangana'\n",
    "x"
   ]
  },
  {
   "cell_type": "code",
   "execution_count": 50,
   "id": "64aa1218-86c4-4fd4-9e37-a90040c714b7",
   "metadata": {},
   "outputs": [
    {
     "name": "stdout",
     "output_type": "stream",
     "text": [
      "no : \n"
     ]
    }
   ],
   "source": [
    "x='kjgkhgj'\n",
    "\n",
    "if x[0]=='m':\n",
    "    print(\"yes\")\n",
    "else:\n",
    "    print(\"no\")"
   ]
  },
  {
   "cell_type": "code",
   "execution_count": 52,
   "id": "e1883b38-01ee-4b29-ab6e-28bd9393df96",
   "metadata": {},
   "outputs": [
    {
     "name": "stdout",
     "output_type": "stream",
     "text": [
      "yes\n"
     ]
    }
   ],
   "source": [
    "x='Mumbai'\n",
    "if x[0].lower()=='m':\n",
    "    print('yes')\n",
    "else:\n",
    "    print('no')"
   ]
  },
  {
   "cell_type": "code",
   "execution_count": 54,
   "id": "cdbe87a8-3a0f-4cea-a389-f5a8aa3afdff",
   "metadata": {},
   "outputs": [
    {
     "data": {
      "text/plain": [
       "True"
      ]
     },
     "execution_count": 54,
     "metadata": {},
     "output_type": "execute_result"
    }
   ],
   "source": [
    "x[0].lower()=='m'"
   ]
  },
  {
   "cell_type": "code",
   "execution_count": 74,
   "id": "f883bfe8-7d03-4570-933b-162b9a583ddc",
   "metadata": {},
   "outputs": [
    {
     "name": "stdout",
     "output_type": "stream",
     "text": [
      "yes\n"
     ]
    }
   ],
   "source": [
    "x='mumbai'\n",
    "if x[0].lower() =='m':\n",
    "    print('yes')\n",
    "elif x[0].lower() =='h':\n",
    "    print('yes')\n",
    "elif x[0].lower() =='s':\n",
    "    print('yes')\n",
    "else:\n",
    "    print('no')"
   ]
  },
  {
   "cell_type": "code",
   "execution_count": 76,
   "id": "7c1d21f2-c9b4-4655-8013-1f5dc37d414b",
   "metadata": {},
   "outputs": [
    {
     "name": "stdout",
     "output_type": "stream",
     "text": [
      "yes\n"
     ]
    }
   ],
   "source": [
    "x = 'mumbai'\n",
    "if x[0].lower()=='m' or x[0].lower()=='s' or x[0].lower()=='h':\n",
    "    print('yes')\n",
    "else:\n",
    "    print('no')"
   ]
  },
  {
   "cell_type": "code",
   "execution_count": 78,
   "id": "549151e3-7ce4-424e-942b-fe2e1b8587b8",
   "metadata": {},
   "outputs": [
    {
     "name": "stdout",
     "output_type": "stream",
     "text": [
      "yes\n"
     ]
    }
   ],
   "source": [
    "if x[0].lower() in ('s','h','m'):\n",
    "    print('yes')\n",
    "else:\n",
    "    print('no')"
   ]
  },
  {
   "cell_type": "code",
   "execution_count": null,
   "id": "8e101a7b-cb81-45fe-8a1c-6e76b32a96b9",
   "metadata": {},
   "outputs": [],
   "source": []
  }
 ],
 "metadata": {
  "kernelspec": {
   "display_name": "Python [conda env:base] *",
   "language": "python",
   "name": "conda-base-py"
  },
  "language_info": {
   "codemirror_mode": {
    "name": "ipython",
    "version": 3
   },
   "file_extension": ".py",
   "mimetype": "text/x-python",
   "name": "python",
   "nbconvert_exporter": "python",
   "pygments_lexer": "ipython3",
   "version": "3.12.7"
  }
 },
 "nbformat": 4,
 "nbformat_minor": 5
}
